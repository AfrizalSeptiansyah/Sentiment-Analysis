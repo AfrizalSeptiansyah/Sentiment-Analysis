{
 "cells": [
  {
   "cell_type": "markdown",
   "metadata": {},
   "source": [
    "# Sentiment Analysis For Indonesian Dataset with SVC"
   ]
  },
  {
   "cell_type": "markdown",
   "metadata": {},
   "source": [
    "## Import Library "
   ]
  },
  {
   "cell_type": "code",
   "execution_count": 1,
   "metadata": {},
   "outputs": [],
   "source": [
    "import numpy as np\n",
    "import pandas as pd\n",
    "import matplotlib.pyplot as plt\n",
    "import seaborn as sns\n",
    "sns.set()\n",
    "from warnings import filterwarnings\n",
    "filterwarnings('ignore')\n",
    "\n",
    "from sklearn.model_selection import train_test_split\n",
    "from sklearn.pipeline import Pipeline\n",
    "from sklearn.compose import ColumnTransformer\n",
    "\n",
    "from jcopml.utils import save_model, load_model"
   ]
  },
  {
   "cell_type": "markdown",
   "metadata": {},
   "source": [
    "## Import Data"
   ]
  },
  {
   "cell_type": "code",
   "execution_count": 2,
   "metadata": {},
   "outputs": [
    {
     "data": {
      "text/html": [
       "<div>\n",
       "<style scoped>\n",
       "    .dataframe tbody tr th:only-of-type {\n",
       "        vertical-align: middle;\n",
       "    }\n",
       "\n",
       "    .dataframe tbody tr th {\n",
       "        vertical-align: top;\n",
       "    }\n",
       "\n",
       "    .dataframe thead th {\n",
       "        text-align: right;\n",
       "    }\n",
       "</style>\n",
       "<table border=\"1\" class=\"dataframe\">\n",
       "  <thead>\n",
       "    <tr style=\"text-align: right;\">\n",
       "      <th></th>\n",
       "      <th>sentimen</th>\n",
       "      <th>Tweet</th>\n",
       "    </tr>\n",
       "  </thead>\n",
       "  <tbody>\n",
       "    <tr>\n",
       "      <th>0</th>\n",
       "      <td>-1</td>\n",
       "      <td>lagu bosan apa yang aku save ni huhuhuhuhuhuhu...</td>\n",
       "    </tr>\n",
       "    <tr>\n",
       "      <th>1</th>\n",
       "      <td>-1</td>\n",
       "      <td>kita lanjutkan saja diam ini hingga kau dan ak...</td>\n",
       "    </tr>\n",
       "    <tr>\n",
       "      <th>2</th>\n",
       "      <td>1</td>\n",
       "      <td>doa rezeki tak putus inna haa zaa larizquna ma...</td>\n",
       "    </tr>\n",
       "    <tr>\n",
       "      <th>3</th>\n",
       "      <td>1</td>\n",
       "      <td>makasih loh ntar kita bagi hasil aku 99 9 sisa...</td>\n",
       "    </tr>\n",
       "    <tr>\n",
       "      <th>4</th>\n",
       "      <td>-1</td>\n",
       "      <td>aku tak faham betul jenis orang malaysia yang ...</td>\n",
       "    </tr>\n",
       "  </tbody>\n",
       "</table>\n",
       "</div>"
      ],
      "text/plain": [
       "   sentimen                                              Tweet\n",
       "0        -1  lagu bosan apa yang aku save ni huhuhuhuhuhuhu...\n",
       "1        -1  kita lanjutkan saja diam ini hingga kau dan ak...\n",
       "2         1  doa rezeki tak putus inna haa zaa larizquna ma...\n",
       "3         1  makasih loh ntar kita bagi hasil aku 99 9 sisa...\n",
       "4        -1  aku tak faham betul jenis orang malaysia yang ..."
      ]
     },
     "execution_count": 2,
     "metadata": {},
     "output_type": "execute_result"
    }
   ],
   "source": [
    "df = pd.read_csv(\"data/Indonesian_Sentiment_Twitter_Dataset_Labeled.csv\", error_bad_lines=False, sep='\\t')\n",
    "df.head()"
   ]
  },
  {
   "cell_type": "code",
   "execution_count": 3,
   "metadata": {},
   "outputs": [
    {
     "data": {
      "text/plain": [
       "(10806, 2)"
      ]
     },
     "execution_count": 3,
     "metadata": {},
     "output_type": "execute_result"
    }
   ],
   "source": [
    "df.shape"
   ]
  },
  {
   "cell_type": "markdown",
   "metadata": {},
   "source": [
    "Data terdiri dari 10806 baris dan 2 kolom."
   ]
  },
  {
   "cell_type": "code",
   "execution_count": 4,
   "metadata": {},
   "outputs": [
    {
     "data": {
      "text/plain": [
       "sentimen     int64\n",
       "Tweet       object\n",
       "dtype: object"
      ]
     },
     "execution_count": 4,
     "metadata": {},
     "output_type": "execute_result"
    }
   ],
   "source": [
    "df.dtypes"
   ]
  },
  {
   "cell_type": "markdown",
   "metadata": {},
   "source": [
    "Tipe data telah sesuai."
   ]
  },
  {
   "cell_type": "code",
   "execution_count": 5,
   "metadata": {},
   "outputs": [
    {
     "data": {
      "text/plain": [
       "sentimen    0\n",
       "Tweet       0\n",
       "dtype: int64"
      ]
     },
     "execution_count": 5,
     "metadata": {},
     "output_type": "execute_result"
    }
   ],
   "source": [
    "df.isna().sum()"
   ]
  },
  {
   "cell_type": "markdown",
   "metadata": {},
   "source": [
    "Data telah bersih."
   ]
  },
  {
   "cell_type": "code",
   "execution_count": 6,
   "metadata": {},
   "outputs": [
    {
     "data": {
      "image/png": "[encoded data removed]",
      "text/plain": [
       "<Figure size 432x288 with 1 Axes>"
      ]
     },
     "metadata": {},
     "output_type": "display_data"
    }
   ],
   "source": [
    "sns.countplot(df.sentimen);"
   ]
  },
  {
   "cell_type": "code",
   "execution_count": 7,
   "metadata": {},
   "outputs": [
    {
     "data": {
      "text/plain": [
       " 0    0.492967\n",
       "-1    0.267166\n",
       " 1    0.239867\n",
       "Name: sentimen, dtype: float64"
      ]
     },
     "execution_count": 7,
     "metadata": {},
     "output_type": "execute_result"
    }
   ],
   "source": [
    "df.sentimen.value_counts(normalize=True)"
   ]
  },
  {
   "cell_type": "markdown",
   "metadata": {},
   "source": [
    "Target variabel masih dapat dikatakan balanced."
   ]
  },
  {
   "cell_type": "markdown",
   "metadata": {},
   "source": [
    "## Cleaning "
   ]
  },
  {
   "cell_type": "code",
   "execution_count": 8,
   "metadata": {},
   "outputs": [],
   "source": [
    "from nltk.tokenize import word_tokenize\n",
    "from nltk.corpus import stopwords\n",
    "import re\n",
    "from string import punctuation\n",
    "from sklearn.feature_extraction.text import TfidfVectorizer, CountVectorizer\n",
    "\n",
    "sw_indo = stopwords.words('indonesian')"
   ]
  },
  {
   "cell_type": "markdown",
   "metadata": {},
   "source": [
    "Idealnya kita definisikan sendiri stopwords kita tergantung masalah yang sedang dihadapi. Namun, kali ini saya hanya akan menggunakan stopwords indonesia bawaan nltk."
   ]
  },
  {
   "cell_type": "code",
   "execution_count": 9,
   "metadata": {},
   "outputs": [],
   "source": [
    "def cleansing(text):\n",
    "    word_list = word_tokenize(text)\n",
    "    word_list = [word for word in word_list if len(word) > 1 and word.isalpha()]\n",
    "    word_list = [word for word in word_list if word not in punctuation]\n",
    "    word_list = [word for word in word_list if word not in sw_indo]\n",
    "    text = ' '.join(word_list)\n",
    "    return text"
   ]
  },
  {
   "cell_type": "code",
   "execution_count": 10,
   "metadata": {},
   "outputs": [],
   "source": [
    "df['Tweet'] = df.Tweet.apply(cleansing)"
   ]
  },
  {
   "cell_type": "code",
   "execution_count": 11,
   "metadata": {},
   "outputs": [
    {
     "data": {
      "text/html": [
       "<div>\n",
       "<style scoped>\n",
       "    .dataframe tbody tr th:only-of-type {\n",
       "        vertical-align: middle;\n",
       "    }\n",
       "\n",
       "    .dataframe tbody tr th {\n",
       "        vertical-align: top;\n",
       "    }\n",
       "\n",
       "    .dataframe thead th {\n",
       "        text-align: right;\n",
       "    }\n",
       "</style>\n",
       "<table border=\"1\" class=\"dataframe\">\n",
       "  <thead>\n",
       "    <tr style=\"text-align: right;\">\n",
       "      <th></th>\n",
       "      <th>sentimen</th>\n",
       "      <th>Tweet</th>\n",
       "    </tr>\n",
       "  </thead>\n",
       "  <tbody>\n",
       "    <tr>\n",
       "      <th>0</th>\n",
       "      <td>-1</td>\n",
       "      <td>lagu bosan save ni huhuhuhuhuhuhuhuhuhuuuuuuuu...</td>\n",
       "    </tr>\n",
       "    <tr>\n",
       "      <th>1</th>\n",
       "      <td>-1</td>\n",
       "      <td>lanjutkan diam kau mengerti kebersamaan meliba...</td>\n",
       "    </tr>\n",
       "    <tr>\n",
       "      <th>2</th>\n",
       "      <td>1</td>\n",
       "      <td>doa rezeki putus inna haa zaa larizquna maa la...</td>\n",
       "    </tr>\n",
       "    <tr>\n",
       "      <th>3</th>\n",
       "      <td>1</td>\n",
       "      <td>makasih loh ntar hasil sisanya</td>\n",
       "    </tr>\n",
       "    <tr>\n",
       "      <th>4</th>\n",
       "      <td>-1</td>\n",
       "      <td>faham jenis orang malaysia reti nak sangkut ho...</td>\n",
       "    </tr>\n",
       "  </tbody>\n",
       "</table>\n",
       "</div>"
      ],
      "text/plain": [
       "   sentimen                                              Tweet\n",
       "0        -1  lagu bosan save ni huhuhuhuhuhuhuhuhuhuuuuuuuu...\n",
       "1        -1  lanjutkan diam kau mengerti kebersamaan meliba...\n",
       "2         1  doa rezeki putus inna haa zaa larizquna maa la...\n",
       "3         1                     makasih loh ntar hasil sisanya\n",
       "4        -1  faham jenis orang malaysia reti nak sangkut ho..."
      ]
     },
     "execution_count": 11,
     "metadata": {},
     "output_type": "execute_result"
    }
   ],
   "source": [
    "df.head()"
   ]
  },
  {
   "cell_type": "markdown",
   "metadata": {},
   "source": [
    "## Dataset Splitting"
   ]
  },
  {
   "cell_type": "code",
   "execution_count": 12,
   "metadata": {},
   "outputs": [
    {
     "data": {
      "text/plain": [
       "((8644,), (2162,), (8644,), (2162,))"
      ]
     },
     "execution_count": 12,
     "metadata": {},
     "output_type": "execute_result"
    }
   ],
   "source": [
    "X = df.Tweet\n",
    "y = df.sentimen\n",
    "\n",
    "X_train, X_test, y_train, y_test = train_test_split(X, y, test_size=0.2, stratify=y, random_state=42)\n",
    "X_train.shape, X_test.shape, y_train.shape, y_test.shape"
   ]
  },
  {
   "cell_type": "markdown",
   "metadata": {},
   "source": [
    "## Modeling"
   ]
  },
  {
   "cell_type": "code",
   "execution_count": 13,
   "metadata": {},
   "outputs": [],
   "source": [
    "from jcopml.tuning import grid_search_params as gsp\n",
    "from sklearn.model_selection import RandomizedSearchCV\n",
    "from jcopml.tuning.space import Integer, Real\n",
    "from sklearn.svm import SVC"
   ]
  },
  {
   "cell_type": "code",
   "execution_count": 14,
   "metadata": {},
   "outputs": [
    {
     "data": {
      "text/plain": [
       "{'algo__gamma': array([1.e-03, 1.e-02, 1.e-01, 1.e+00, 1.e+01, 1.e+02, 1.e+03]),\n",
       " 'algo__C': array([1.e-03, 1.e-02, 1.e-01, 1.e+00, 1.e+01, 1.e+02, 1.e+03])}"
      ]
     },
     "execution_count": 14,
     "metadata": {},
     "output_type": "execute_result"
    }
   ],
   "source": [
    "gsp.svm_params"
   ]
  },
  {
   "cell_type": "code",
   "execution_count": 15,
   "metadata": {},
   "outputs": [
    {
     "name": "stdout",
     "output_type": "stream",
     "text": [
      "Fitting 10 folds for each of 25 candidates, totalling 250 fits\n"
     ]
    },
    {
     "name": "stderr",
     "output_type": "stream",
     "text": [
      "[Parallel(n_jobs=-2)]: Using backend LokyBackend with 3 concurrent workers.\n",
      "[Parallel(n_jobs=-2)]: Done  44 tasks      | elapsed:   56.9s\n",
      "[Parallel(n_jobs=-2)]: Done 194 tasks      | elapsed:  4.0min\n",
      "[Parallel(n_jobs=-2)]: Done 250 out of 250 | elapsed:  5.0min finished\n"
     ]
    },
    {
     "name": "stdout",
     "output_type": "stream",
     "text": [
      "{'algo__gamma': 1.0, 'algo__C': 1.0}\n",
      "0.6072420175844516 0.49409775743952045 0.49121184088806663\n"
     ]
    }
   ],
   "source": [
    "pipeline = Pipeline([\n",
    "    ('prep', TfidfVectorizer()),\n",
    "    ('algo', SVC(max_iter=500))\n",
    "])\n",
    "\n",
    "\n",
    "model = RandomizedSearchCV(pipeline, gsp.svm_params, cv=10, n_iter=25, n_jobs=-2, verbose=1, random_state=42)\n",
    "model.fit(X_train, y_train)\n",
    "\n",
    "print(model.best_params_)\n",
    "print(model.score(X_train, y_train), model.best_score_, model.score(X_test, y_test))"
   ]
  },
  {
   "cell_type": "code",
   "execution_count": 16,
   "metadata": {},
   "outputs": [
    {
     "data": {
      "text/html": [
       "<div>\n",
       "<style scoped>\n",
       "    .dataframe tbody tr th:only-of-type {\n",
       "        vertical-align: middle;\n",
       "    }\n",
       "\n",
       "    .dataframe tbody tr th {\n",
       "        vertical-align: top;\n",
       "    }\n",
       "\n",
       "    .dataframe thead th {\n",
       "        text-align: right;\n",
       "    }\n",
       "</style>\n",
       "<table border=\"1\" class=\"dataframe\">\n",
       "  <thead>\n",
       "    <tr style=\"text-align: right;\">\n",
       "      <th></th>\n",
       "      <th>mean_fit_time</th>\n",
       "      <th>std_fit_time</th>\n",
       "      <th>mean_score_time</th>\n",
       "      <th>std_score_time</th>\n",
       "      <th>param_algo__gamma</th>\n",
       "      <th>param_algo__C</th>\n",
       "      <th>params</th>\n",
       "      <th>split0_test_score</th>\n",
       "      <th>split1_test_score</th>\n",
       "      <th>split2_test_score</th>\n",
       "      <th>split3_test_score</th>\n",
       "      <th>split4_test_score</th>\n",
       "      <th>split5_test_score</th>\n",
       "      <th>split6_test_score</th>\n",
       "      <th>split7_test_score</th>\n",
       "      <th>split8_test_score</th>\n",
       "      <th>split9_test_score</th>\n",
       "      <th>mean_test_score</th>\n",
       "      <th>std_test_score</th>\n",
       "      <th>rank_test_score</th>\n",
       "    </tr>\n",
       "  </thead>\n",
       "  <tbody>\n",
       "    <tr>\n",
       "      <th>22</th>\n",
       "      <td>3.020473</td>\n",
       "      <td>0.049310</td>\n",
       "      <td>0.349920</td>\n",
       "      <td>0.022886</td>\n",
       "      <td>1</td>\n",
       "      <td>1</td>\n",
       "      <td>{'algo__gamma': 1.0, 'algo__C': 1.0}</td>\n",
       "      <td>0.490173</td>\n",
       "      <td>0.521387</td>\n",
       "      <td>0.484393</td>\n",
       "      <td>0.499422</td>\n",
       "      <td>0.476852</td>\n",
       "      <td>0.465278</td>\n",
       "      <td>0.519676</td>\n",
       "      <td>0.493056</td>\n",
       "      <td>0.497685</td>\n",
       "      <td>0.493056</td>\n",
       "      <td>0.494098</td>\n",
       "      <td>0.016371</td>\n",
       "      <td>1</td>\n",
       "    </tr>\n",
       "    <tr>\n",
       "      <th>1</th>\n",
       "      <td>2.908366</td>\n",
       "      <td>0.145879</td>\n",
       "      <td>0.337719</td>\n",
       "      <td>0.022792</td>\n",
       "      <td>1</td>\n",
       "      <td>1000</td>\n",
       "      <td>{'algo__gamma': 1.0, 'algo__C': 1000.0}</td>\n",
       "      <td>0.445087</td>\n",
       "      <td>0.499422</td>\n",
       "      <td>0.461272</td>\n",
       "      <td>0.497110</td>\n",
       "      <td>0.495370</td>\n",
       "      <td>0.496528</td>\n",
       "      <td>0.503472</td>\n",
       "      <td>0.467593</td>\n",
       "      <td>0.480324</td>\n",
       "      <td>0.483796</td>\n",
       "      <td>0.482997</td>\n",
       "      <td>0.018381</td>\n",
       "      <td>2</td>\n",
       "    </tr>\n",
       "    <tr>\n",
       "      <th>8</th>\n",
       "      <td>2.844363</td>\n",
       "      <td>0.103041</td>\n",
       "      <td>0.331119</td>\n",
       "      <td>0.020721</td>\n",
       "      <td>1</td>\n",
       "      <td>10</td>\n",
       "      <td>{'algo__gamma': 1.0, 'algo__C': 10.0}</td>\n",
       "      <td>0.436994</td>\n",
       "      <td>0.513295</td>\n",
       "      <td>0.470520</td>\n",
       "      <td>0.485549</td>\n",
       "      <td>0.495370</td>\n",
       "      <td>0.479167</td>\n",
       "      <td>0.489583</td>\n",
       "      <td>0.442130</td>\n",
       "      <td>0.480324</td>\n",
       "      <td>0.497685</td>\n",
       "      <td>0.479062</td>\n",
       "      <td>0.022684</td>\n",
       "      <td>3</td>\n",
       "    </tr>\n",
       "    <tr>\n",
       "      <th>3</th>\n",
       "      <td>2.776959</td>\n",
       "      <td>0.126489</td>\n",
       "      <td>0.322719</td>\n",
       "      <td>0.014807</td>\n",
       "      <td>0.1</td>\n",
       "      <td>1000</td>\n",
       "      <td>{'algo__gamma': 0.1, 'algo__C': 1000.0}</td>\n",
       "      <td>0.423121</td>\n",
       "      <td>0.508671</td>\n",
       "      <td>0.478613</td>\n",
       "      <td>0.489017</td>\n",
       "      <td>0.487269</td>\n",
       "      <td>0.468750</td>\n",
       "      <td>0.496528</td>\n",
       "      <td>0.489583</td>\n",
       "      <td>0.472222</td>\n",
       "      <td>0.467593</td>\n",
       "      <td>0.478137</td>\n",
       "      <td>0.022056</td>\n",
       "      <td>4</td>\n",
       "    </tr>\n",
       "    <tr>\n",
       "      <th>24</th>\n",
       "      <td>2.817861</td>\n",
       "      <td>0.143315</td>\n",
       "      <td>0.321318</td>\n",
       "      <td>0.020066</td>\n",
       "      <td>0.1</td>\n",
       "      <td>10</td>\n",
       "      <td>{'algo__gamma': 0.1, 'algo__C': 10.0}</td>\n",
       "      <td>0.469364</td>\n",
       "      <td>0.514451</td>\n",
       "      <td>0.440462</td>\n",
       "      <td>0.493642</td>\n",
       "      <td>0.472222</td>\n",
       "      <td>0.453704</td>\n",
       "      <td>0.471065</td>\n",
       "      <td>0.469907</td>\n",
       "      <td>0.476852</td>\n",
       "      <td>0.459491</td>\n",
       "      <td>0.472116</td>\n",
       "      <td>0.019473</td>\n",
       "      <td>5</td>\n",
       "    </tr>\n",
       "  </tbody>\n",
       "</table>\n",
       "</div>"
      ],
      "text/plain": [
       "    mean_fit_time  std_fit_time  mean_score_time  std_score_time  \\\n",
       "22       3.020473      0.049310         0.349920        0.022886   \n",
       "1        2.908366      0.145879         0.337719        0.022792   \n",
       "8        2.844363      0.103041         0.331119        0.020721   \n",
       "3        2.776959      0.126489         0.322719        0.014807   \n",
       "24       2.817861      0.143315         0.321318        0.020066   \n",
       "\n",
       "   param_algo__gamma param_algo__C                                   params  \\\n",
       "22                 1             1     {'algo__gamma': 1.0, 'algo__C': 1.0}   \n",
       "1                  1          1000  {'algo__gamma': 1.0, 'algo__C': 1000.0}   \n",
       "8                  1            10    {'algo__gamma': 1.0, 'algo__C': 10.0}   \n",
       "3                0.1          1000  {'algo__gamma': 0.1, 'algo__C': 1000.0}   \n",
       "24               0.1            10    {'algo__gamma': 0.1, 'algo__C': 10.0}   \n",
       "\n",
       "    split0_test_score  split1_test_score  split2_test_score  \\\n",
       "22           0.490173           0.521387           0.484393   \n",
       "1            0.445087           0.499422           0.461272   \n",
       "8            0.436994           0.513295           0.470520   \n",
       "3            0.423121           0.508671           0.478613   \n",
       "24           0.469364           0.514451           0.440462   \n",
       "\n",
       "    split3_test_score  split4_test_score  split5_test_score  \\\n",
       "22           0.499422           0.476852           0.465278   \n",
       "1            0.497110           0.495370           0.496528   \n",
       "8            0.485549           0.495370           0.479167   \n",
       "3            0.489017           0.487269           0.468750   \n",
       "24           0.493642           0.472222           0.453704   \n",
       "\n",
       "    split6_test_score  split7_test_score  split8_test_score  \\\n",
       "22           0.519676           0.493056           0.497685   \n",
       "1            0.503472           0.467593           0.480324   \n",
       "8            0.489583           0.442130           0.480324   \n",
       "3            0.496528           0.489583           0.472222   \n",
       "24           0.471065           0.469907           0.476852   \n",
       "\n",
       "    split9_test_score  mean_test_score  std_test_score  rank_test_score  \n",
       "22           0.493056         0.494098        0.016371                1  \n",
       "1            0.483796         0.482997        0.018381                2  \n",
       "8            0.497685         0.479062        0.022684                3  \n",
       "3            0.467593         0.478137        0.022056                4  \n",
       "24           0.459491         0.472116        0.019473                5  "
      ]
     },
     "execution_count": 16,
     "metadata": {},
     "output_type": "execute_result"
    }
   ],
   "source": [
    "pd.DataFrame(model.cv_results_).sort_values('rank_test_score', ascending=True).head()"
   ]
  },
  {
   "cell_type": "markdown",
   "metadata": {},
   "source": [
    "## Evaluasi "
   ]
  },
  {
   "cell_type": "code",
   "execution_count": 17,
   "metadata": {},
   "outputs": [],
   "source": [
    "from jcopml.plot import plot_classification_report, plot_confusion_matrix"
   ]
  },
  {
   "cell_type": "code",
   "execution_count": 18,
   "metadata": {},
   "outputs": [
    {
     "name": "stdout",
     "output_type": "stream",
     "text": [
      "Train report\n",
      "              precision    recall  f1-score   support\n",
      "\n",
      "          -1       0.48      0.71      0.57      2309\n",
      "           0       0.67      0.75      0.71      4261\n",
      "           1       0.98      0.20      0.33      2074\n",
      "\n",
      "    accuracy                           0.61      8644\n",
      "   macro avg       0.71      0.55      0.54      8644\n",
      "weighted avg       0.69      0.61      0.58      8644\n",
      "\n",
      "\n",
      "Test report\n",
      "              precision    recall  f1-score   support\n",
      "\n",
      "          -1       0.37      0.59      0.45       578\n",
      "           0       0.58      0.66      0.62      1066\n",
      "           1       0.58      0.03      0.06       518\n",
      "\n",
      "    accuracy                           0.49      2162\n",
      "   macro avg       0.51      0.43      0.38      2162\n",
      "weighted avg       0.52      0.49      0.44      2162\n",
      "\n"
     ]
    }
   ],
   "source": [
    "plot_classification_report(X_train, y_train, X_test, y_test, model, report=True)"
   ]
  },
  {
   "cell_type": "code",
   "execution_count": 19,
   "metadata": {},
   "outputs": [
    {
     "data": {
      "image/png": "[encoded data removed]",
      "text/plain": [
       "<Figure size 792x360 with 2 Axes>"
      ]
     },
     "metadata": {},
     "output_type": "display_data"
    }
   ],
   "source": [
    "plot_confusion_matrix(X_train, y_train, X_test, y_test, model)"
   ]
  },
  {
   "cell_type": "markdown",
   "metadata": {},
   "source": [
    "Dari hasil modeling menggunakan Support Vector Classifier (SVC) masih belum mendapatkan hasil yang baik. Selanjutnya saya akan mencoba melakukan teknik feature engineering yang lain untuk teks dan mencoba algoritma lain harapannya agar model bisa lebih baik lagi."
   ]
  },
  {
   "cell_type": "code",
   "execution_count": null,
   "metadata": {},
   "outputs": [],
   "source": []
  }
 ],
 "metadata": {
  "kernelspec": {
   "display_name": "Python 3",
   "language": "python",
   "name": "python3"
  },
  "language_info": {
   "codemirror_mode": {
    "name": "ipython",
    "version": 3
   },
   "file_extension": ".py",
   "mimetype": "text/x-python",
   "name": "python",
   "nbconvert_exporter": "python",
   "pygments_lexer": "ipython3",
   "version": "3.8.3"
  }
 },
 "nbformat": 4,
 "nbformat_minor": 4
}
